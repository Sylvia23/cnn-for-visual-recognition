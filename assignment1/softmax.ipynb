{
 "cells": [
  {
   "cell_type": "markdown",
   "metadata": {},
   "source": [
    "# Softmax exercise\n",
    "\n",
    "*Complete and hand in this completed worksheet (including its outputs and any supporting code outside of the worksheet) with your assignment submission. For more details see the [assignments page](http://vision.stanford.edu/teaching/cs231n/assignments.html) on the course website.*\n",
    "\n",
    "This exercise is analogous to the SVM exercise. You will:\n",
    "\n",
    "- implement a fully-vectorized **loss function** for the Softmax classifier\n",
    "- implement the fully-vectorized expression for its **analytic gradient**\n",
    "- **check your implementation** with numerical gradient\n",
    "- use a validation set to **tune the learning rate and regularization** strength\n",
    "- **optimize** the loss function with **SGD**\n",
    "- **visualize** the final learned weights\n"
   ]
  },
  {
   "cell_type": "code",
   "execution_count": 1,
   "metadata": {
    "collapsed": false
   },
   "outputs": [],
   "source": [
    "import random\n",
    "import numpy as np\n",
    "from cs231n.data_utils import load_CIFAR10\n",
    "import matplotlib.pyplot as plt\n",
    "%matplotlib inline\n",
    "plt.rcParams['figure.figsize'] = (10.0, 8.0) # set default size of plots\n",
    "plt.rcParams['image.interpolation'] = 'nearest'\n",
    "plt.rcParams['image.cmap'] = 'gray'\n",
    "\n",
    "# for auto-reloading extenrnal modules\n",
    "# see http://stackoverflow.com/questions/1907993/autoreload-of-modules-in-ipython\n",
    "%load_ext autoreload\n",
    "%autoreload 2"
   ]
  },
  {
   "cell_type": "code",
   "execution_count": 2,
   "metadata": {
    "collapsed": false
   },
   "outputs": [
    {
     "name": "stdout",
     "output_type": "stream",
     "text": [
      "Train data shape:  (49000, 3073)\n",
      "Train labels shape:  (49000,)\n",
      "Validation data shape:  (1000, 3073)\n",
      "Validation labels shape:  (1000,)\n",
      "Test data shape:  (1000, 3073)\n",
      "Test labels shape:  (1000,)\n",
      "dev data shape:  (500, 3073)\n",
      "dev labels shape:  (500,)\n"
     ]
    }
   ],
   "source": [
    "def get_CIFAR10_data(num_training=49000, num_validation=1000, num_test=1000, num_dev=500):\n",
    "  \"\"\"\n",
    "  Load the CIFAR-10 dataset from disk and perform preprocessing to prepare\n",
    "  it for the linear classifier. These are the same steps as we used for the\n",
    "  SVM, but condensed to a single function.  \n",
    "  \"\"\"\n",
    "  # Load the raw CIFAR-10 data\n",
    "  cifar10_dir = 'cs231n/datasets/cifar-10-batches-py'\n",
    "  X_train, y_train, X_test, y_test = load_CIFAR10(cifar10_dir)\n",
    "  \n",
    "  # subsample the data\n",
    "  mask = range(num_training, num_training + num_validation)\n",
    "  X_val = X_train[mask]\n",
    "  y_val = y_train[mask]\n",
    "  mask = range(num_training)\n",
    "  X_train = X_train[mask]\n",
    "  y_train = y_train[mask]\n",
    "  mask = range(num_test)\n",
    "  X_test = X_test[mask]\n",
    "  y_test = y_test[mask]\n",
    "  mask = np.random.choice(num_training, num_dev, replace=False)\n",
    "  X_dev = X_train[mask]\n",
    "  y_dev = y_train[mask]\n",
    "  \n",
    "  # Preprocessing: reshape the image data into rows\n",
    "  X_train = np.reshape(X_train, (X_train.shape[0], -1))\n",
    "  X_val = np.reshape(X_val, (X_val.shape[0], -1))\n",
    "  X_test = np.reshape(X_test, (X_test.shape[0], -1))\n",
    "  X_dev = np.reshape(X_dev, (X_dev.shape[0], -1))\n",
    "  \n",
    "  # Normalize the data: subtract the mean image\n",
    "  mean_image = np.mean(X_train, axis = 0)\n",
    "  X_train -= mean_image\n",
    "  X_val -= mean_image\n",
    "  X_test -= mean_image\n",
    "  X_dev -= mean_image\n",
    "  \n",
    "  # add bias dimension and transform into columns\n",
    "  X_train = np.hstack([X_train, np.ones((X_train.shape[0], 1))])\n",
    "  X_val = np.hstack([X_val, np.ones((X_val.shape[0], 1))])\n",
    "  X_test = np.hstack([X_test, np.ones((X_test.shape[0], 1))])\n",
    "  X_dev = np.hstack([X_dev, np.ones((X_dev.shape[0], 1))])\n",
    "  \n",
    "  return X_train, y_train, X_val, y_val, X_test, y_test, X_dev, y_dev\n",
    "\n",
    "\n",
    "# Invoke the above function to get our data.\n",
    "X_train, y_train, X_val, y_val, X_test, y_test, X_dev, y_dev = get_CIFAR10_data()\n",
    "print 'Train data shape: ', X_train.shape\n",
    "print 'Train labels shape: ', y_train.shape\n",
    "print 'Validation data shape: ', X_val.shape\n",
    "print 'Validation labels shape: ', y_val.shape\n",
    "print 'Test data shape: ', X_test.shape\n",
    "print 'Test labels shape: ', y_test.shape\n",
    "print 'dev data shape: ', X_dev.shape\n",
    "print 'dev labels shape: ', y_dev.shape"
   ]
  },
  {
   "cell_type": "markdown",
   "metadata": {},
   "source": [
    "## Softmax Classifier\n",
    "\n",
    "Your code for this section will all be written inside **cs231n/classifiers/softmax.py**. \n"
   ]
  },
  {
   "cell_type": "code",
   "execution_count": 3,
   "metadata": {
    "collapsed": false
   },
   "outputs": [
    {
     "name": "stdout",
     "output_type": "stream",
     "text": [
      "[[ -1.61139899e+00   4.17941696e-01  -3.66815300e-01 ...,  -1.35066002e-02\n",
      "   -1.45692426e+00  -5.74074390e+00]\n",
      " [ -2.83270152e+00   4.94747870e-01  -3.92244678e-01 ...,   7.53727310e-02\n",
      "   -1.94158914e+00  -6.04500465e+00]\n",
      " [ -5.26908405e+00   3.95611959e-01   2.10027118e-01 ...,  -3.47143398e-01\n",
      "   -3.20690254e+00  -6.82299595e+00]\n",
      " ..., \n",
      " [  8.71491817e-01  -7.47361015e-01  -1.81705069e+00 ...,  -6.28609763e-01\n",
      "    1.81597786e+00  -6.64701532e-01]\n",
      " [ -4.52073340e-01  -1.40358077e+00  -7.67031561e-01 ...,   1.16228686e+00\n",
      "   -2.88619624e-02  -1.06653166e+00]\n",
      " [ -2.20694883e-03   2.35985129e-02   1.50879103e-02 ...,  -2.12610852e-02\n",
      "   -1.66036011e-03  -4.86330446e-03]]\n",
      "loss: 2.366945\n",
      "sanity check: 2.302585\n"
     ]
    }
   ],
   "source": [
    "# First implement the naive softmax loss function with nested loops.\n",
    "# Open the file cs231n/classifiers/softmax.py and implement the\n",
    "# softmax_loss_naive function.\n",
    "\n",
    "from cs231n.classifiers.softmax import softmax_loss_naive\n",
    "import time\n",
    "\n",
    "# Generate a random softmax weight matrix and use it to compute the loss.\n",
    "W = np.random.randn(3073, 10) * 0.0001\n",
    "loss, grad = softmax_loss_naive(W, X_dev, y_dev, 0.0)\n",
    "print grad\n",
    "# As a rough sanity check, our loss should be something close to -log(0.1).\n",
    "print 'loss: %f' % loss\n",
    "print 'sanity check: %f' % (-np.log(0.1))"
   ]
  },
  {
   "cell_type": "markdown",
   "metadata": {},
   "source": [
    "## Inline Question 1:\n",
    "Why do we expect our loss to be close to -log(0.1)? Explain briefly.**\n",
    "\n",
    "**Your answer:** *Fill this in*\n"
   ]
  },
  {
   "cell_type": "code",
   "execution_count": 4,
   "metadata": {
    "collapsed": false
   },
   "outputs": [
    {
     "name": "stdout",
     "output_type": "stream",
     "text": [
      "numerical: -1.962965 analytic: -1.962965, relative error: 9.940952e-09\n",
      "numerical: 0.660896 analytic: 0.660896, relative error: 1.081690e-07\n",
      "numerical: -0.086480 analytic: -0.086480, relative error: 9.632922e-08\n",
      "numerical: -2.676721 analytic: -2.676721, relative error: 7.525692e-09\n",
      "numerical: -1.248047 analytic: -1.248047, relative error: 8.281866e-08\n",
      "numerical: 0.343691 analytic: 0.343691, relative error: 1.698817e-07\n",
      "numerical: 1.016557 analytic: 1.016556, relative error: 4.668062e-08\n",
      "numerical: -0.829014 analytic: -0.829014, relative error: 9.033857e-08\n",
      "numerical: 0.173495 analytic: 0.173495, relative error: 3.041107e-07\n",
      "numerical: 2.269453 analytic: 2.269453, relative error: 3.977275e-09\n",
      "numerical: 1.665036 analytic: 1.665036, relative error: 3.228840e-08\n",
      "numerical: 1.847058 analytic: 1.847058, relative error: 2.503950e-08\n",
      "numerical: 1.559880 analytic: 1.559880, relative error: 7.108671e-10\n",
      "numerical: -1.175327 analytic: -1.175327, relative error: 1.166338e-08\n",
      "numerical: 1.348650 analytic: 1.348650, relative error: 9.522420e-09\n",
      "numerical: -0.185887 analytic: -0.185887, relative error: 2.935756e-07\n",
      "numerical: 2.207066 analytic: 2.207066, relative error: 2.268678e-08\n",
      "numerical: -0.115768 analytic: -0.115768, relative error: 1.217674e-07\n",
      "numerical: 0.288966 analytic: 0.288966, relative error: 3.389646e-08\n",
      "numerical: -1.223101 analytic: -1.223101, relative error: 3.106456e-08\n"
     ]
    }
   ],
   "source": [
    "# Complete the implementation of softmax_loss_naive and implement a (naive)\n",
    "# version of the gradient that uses nested loops.\n",
    "loss, grad = softmax_loss_naive(W, X_dev, y_dev, 0.0)\n",
    "\n",
    "# As we did for the SVM, use numeric gradient checking as a debugging tool.\n",
    "# The numeric gradient should be close to the analytic gradient.\n",
    "from cs231n.gradient_check import grad_check_sparse\n",
    "f = lambda w: softmax_loss_naive(w, X_dev, y_dev, 0.0)[0]\n",
    "grad_numerical = grad_check_sparse(f, W, grad, 10)\n",
    "\n",
    "# similar to SVM case, do another gradient check with regularization\n",
    "loss, grad = softmax_loss_naive(W, X_dev, y_dev, 1e2)\n",
    "f = lambda w: softmax_loss_naive(w, X_dev, y_dev, 1e2)[0]\n",
    "grad_numerical = grad_check_sparse(f, W, grad, 10)"
   ]
  },
  {
   "cell_type": "code",
   "execution_count": 5,
   "metadata": {
    "collapsed": false
   },
   "outputs": [
    {
     "name": "stdout",
     "output_type": "stream",
     "text": [
      "naive loss: 2.366945e+00 computed in 0.106944s\n",
      "vectorized loss: 2.366945e+00 computed in 0.007472s\n",
      "Loss difference: 0.000000\n",
      "Gradient difference: 0.000000\n"
     ]
    }
   ],
   "source": [
    "# Now that we have a naive implementation of the softmax loss function and its gradient,\n",
    "# implement a vectorized version in softmax_loss_vectorized.\n",
    "# The two versions should compute the same results, but the vectorized version should be\n",
    "# much faster.\n",
    "tic = time.time()\n",
    "loss_naive, grad_naive = softmax_loss_naive(W, X_dev, y_dev, 0.00001)\n",
    "toc = time.time()\n",
    "print 'naive loss: %e computed in %fs' % (loss_naive, toc - tic)\n",
    "\n",
    "from cs231n.classifiers.softmax import softmax_loss_vectorized\n",
    "tic = time.time()\n",
    "loss_vectorized, grad_vectorized = softmax_loss_vectorized(W, X_dev, y_dev, 0.00001)\n",
    "toc = time.time()\n",
    "print 'vectorized loss: %e computed in %fs' % (loss_vectorized, toc - tic)\n",
    "\n",
    "# As we did for the SVM, we use the Frobenius norm to compare the two versions\n",
    "# of the gradient.\n",
    "grad_difference = np.linalg.norm(grad_naive - grad_vectorized, ord='fro')\n",
    "print 'Loss difference: %f' % np.abs(loss_naive - loss_vectorized)\n",
    "print 'Gradient difference: %f' % grad_difference"
   ]
  },
  {
   "cell_type": "code",
   "execution_count": 15,
   "metadata": {
    "collapsed": false
   },
   "outputs": [
    {
     "name": "stdout",
     "output_type": "stream",
     "text": [
      "iteration 0 / 2000: loss 7657.969724\n",
      "iteration 100 / 2000: loss 7316.590558\n",
      "iteration 200 / 2000: loss 7180.134947\n",
      "iteration 300 / 2000: loss 7092.919595\n",
      "iteration 400 / 2000: loss 7008.174493\n",
      "iteration 500 / 2000: loss 6954.507866\n",
      "iteration 600 / 2000: loss 6904.070607\n",
      "iteration 700 / 2000: loss 6867.726485\n",
      "iteration 800 / 2000: loss 6849.865977\n",
      "iteration 900 / 2000: loss 6821.362857\n",
      "iteration 1000 / 2000: loss 6801.712896\n",
      "iteration 1100 / 2000: loss 6768.646923\n",
      "iteration 1200 / 2000: loss 6768.769973\n",
      "iteration 1300 / 2000: loss 6756.730497\n",
      "iteration 1400 / 2000: loss 6750.329081\n",
      "iteration 1500 / 2000: loss 6745.251659\n",
      "iteration 1600 / 2000: loss 6749.449679\n",
      "iteration 1700 / 2000: loss 6758.076758\n",
      "iteration 1800 / 2000: loss 6757.918546\n",
      "iteration 1900 / 2000: loss 6757.677021\n",
      "iteration 0 / 2000: loss 10623.988052\n",
      "iteration 100 / 2000: loss 10173.586423\n",
      "iteration 200 / 2000: loss 9958.764222\n",
      "iteration 300 / 2000: loss 9821.588781\n",
      "iteration 400 / 2000: loss 9714.727085\n",
      "iteration 500 / 2000: loss 9646.497142\n",
      "iteration 600 / 2000: loss 9593.748700\n",
      "iteration 700 / 2000: loss 9538.732818\n",
      "iteration 800 / 2000: loss 9500.305842\n",
      "iteration 900 / 2000: loss 9472.716315\n",
      "iteration 1000 / 2000: loss 9445.696423\n",
      "iteration 1100 / 2000: loss 9427.907603\n",
      "iteration 1200 / 2000: loss 9413.227390\n",
      "iteration 1300 / 2000: loss 9396.810970\n",
      "iteration 1400 / 2000: loss 9386.461767\n",
      "iteration 1500 / 2000: loss 9367.823519\n",
      "iteration 1600 / 2000: loss 9363.685289\n",
      "iteration 1700 / 2000: loss 9344.203640\n",
      "iteration 1800 / 2000: loss 9350.701955\n",
      "iteration 1900 / 2000: loss 9375.647026\n",
      "iteration 0 / 2000: loss 7594.778421\n",
      "iteration 100 / 2000: loss 7319.757210\n",
      "iteration 200 / 2000: loss 7182.807362\n",
      "iteration 300 / 2000: loss 7082.847719\n",
      "iteration 400 / 2000: loss 6999.744391\n",
      "iteration 500 / 2000: loss 6930.524541\n",
      "iteration 600 / 2000: loss 6871.854754\n",
      "iteration 700 / 2000: loss 6820.113029\n",
      "iteration 800 / 2000: loss 6770.574713\n",
      "iteration 900 / 2000: loss 6729.248278\n",
      "iteration 1000 / 2000: loss 6692.472197\n",
      "iteration 1100 / 2000: loss 6657.714276\n",
      "iteration 1200 / 2000: loss 6627.079059\n",
      "iteration 1300 / 2000: loss 6599.494452\n",
      "iteration 1400 / 2000: loss 6574.540900\n",
      "iteration 1500 / 2000: loss 6549.458771\n",
      "iteration 1600 / 2000: loss 6528.401787\n",
      "iteration 1700 / 2000: loss 6508.147191\n",
      "iteration 1800 / 2000: loss 6486.298629\n",
      "iteration 1900 / 2000: loss 6468.336786\n",
      "iteration 0 / 2000: loss 10868.097784\n",
      "iteration 100 / 2000: loss 10462.217350\n",
      "iteration 200 / 2000: loss 10263.342531\n",
      "iteration 300 / 2000: loss 10115.799224\n",
      "iteration 400 / 2000: loss 9996.737063\n",
      "iteration 500 / 2000: loss 9894.193982\n",
      "iteration 600 / 2000: loss 9807.825868\n",
      "iteration 700 / 2000: loss 9731.810806\n",
      "iteration 800 / 2000: loss 9665.092052\n",
      "iteration 900 / 2000: loss 9605.329953\n",
      "iteration 1000 / 2000: loss 9550.714381\n",
      "iteration 1100 / 2000: loss 9502.605173\n",
      "iteration 1200 / 2000: loss 9456.196602\n",
      "iteration 1300 / 2000: loss 9415.156425\n",
      "iteration 1400 / 2000: loss 9377.489379\n",
      "iteration 1500 / 2000: loss 9343.343278\n",
      "iteration 1600 / 2000: loss 9309.428984\n",
      "iteration 1700 / 2000: loss 9276.313571\n",
      "iteration 1800 / 2000: loss 9243.378251\n",
      "iteration 1900 / 2000: loss 9216.109280\n",
      "lr 5.000000e-06 reg 5.000000e+05 train accuracy: 0.394163 val accuracy: 0.383000\n",
      "lr 5.000000e-06 reg 7.000000e+05 train accuracy: 0.394388 val accuracy: 0.342000\n",
      "lr 1.000000e-05 reg 5.000000e+05 train accuracy: 0.342939 val accuracy: 0.313000\n",
      "lr 1.000000e-05 reg 7.000000e+05 train accuracy: 0.272551 val accuracy: 0.273000\n",
      "best validation accuracy achieved during cross-validation: 0.383000\n"
     ]
    }
   ],
   "source": [
    "# Use the validation set to tune hyperparameters (regularization strength and\n",
    "# learning rate). You should experiment with different ranges for the learning\n",
    "# rates and regularization strengths; if you are careful you should be able to\n",
    "# get a classification accuracy of over 0.35 on the validation set.\n",
    "from cs231n.classifiers import Softmax\n",
    "results = {}\n",
    "best_val = -1\n",
    "best_softmax = None\n",
    "learning_rates = [1e-5, 5e-6]\n",
    "regularization_strengths = [5e5, 7e5]\n",
    "\n",
    "################################################################################\n",
    "# TODO:                                                                        #\n",
    "# Use the validation set to set the learning rate and regularization strength. #\n",
    "# This should be identical to the validation that you did for the SVM; save    #\n",
    "# the best trained softmax classifer in best_softmax.                          #\n",
    "################################################################################\n",
    "for lr in learning_rates:\n",
    "    for rs in regularization_strengths:\n",
    "        softmax = Softmax()\n",
    "        softmax.train(X_train, y_train, learning_rate=lr, reg=rs,\n",
    "                          num_iters=2000, verbose=True)\n",
    "        y_train_pred = softmax.predict(X_train)\n",
    "        y_val_pred = softmax.predict(X_val)\n",
    "        train_accuracy = np.mean(y_train == y_train_pred)\n",
    "        val_accuracy = np.mean(y_val == y_val_pred)\n",
    "        if val_accuracy > best_val:\n",
    "            best_val = val_accuracy\n",
    "            best_softmax = softmax\n",
    "            \n",
    "        results[(lr,rs)] = train_accuracy, val_accuracy\n",
    "################################################################################\n",
    "#                              END OF YOUR CODE                                #\n",
    "################################################################################\n",
    "    \n",
    "# Print out results.\n",
    "for lr, reg in sorted(results):\n",
    "    train_accuracy, val_accuracy = results[(lr, reg)]\n",
    "    print 'lr %e reg %e train accuracy: %f val accuracy: %f' % (\n",
    "                lr, reg, train_accuracy, val_accuracy)\n",
    "    \n",
    "print 'best validation accuracy achieved during cross-validation: %f' % best_val"
   ]
  },
  {
   "cell_type": "code",
   "execution_count": 16,
   "metadata": {
    "collapsed": false
   },
   "outputs": [
    {
     "name": "stdout",
     "output_type": "stream",
     "text": [
      "softmax on raw pixels final test set accuracy: 0.350000\n"
     ]
    }
   ],
   "source": [
    "# evaluate on test set\n",
    "# Evaluate the best softmax on test set\n",
    "y_test_pred = best_softmax.predict(X_test)\n",
    "test_accuracy = np.mean(y_test == y_test_pred)\n",
    "print 'softmax on raw pixels final test set accuracy: %f' % (test_accuracy, )"
   ]
  },
  {
   "cell_type": "code",
   "execution_count": 17,
   "metadata": {
    "collapsed": false
   },
   "outputs": [
    {
     "data": {
      "image/png": "[encoded data removed]",
      "text/plain": [
       "<matplotlib.figure.Figure at 0x103f94150>"
      ]
     },
     "metadata": {},
     "output_type": "display_data"
    }
   ],
   "source": [
    "# Visualize the learned weights for each class\n",
    "w = best_softmax.W[:-1,:] # strip out the bias\n",
    "w = w.reshape(32, 32, 3, 10)\n",
    "\n",
    "w_min, w_max = np.min(w), np.max(w)\n",
    "\n",
    "classes = ['plane', 'car', 'bird', 'cat', 'deer', 'dog', 'frog', 'horse', 'ship', 'truck']\n",
    "for i in xrange(10):\n",
    "  plt.subplot(2, 5, i + 1)\n",
    "  \n",
    "  # Rescale the weights to be between 0 and 255\n",
    "  wimg = 255.0 * (w[:, :, :, i].squeeze() - w_min) / (w_max - w_min)\n",
    "  plt.imshow(wimg.astype('uint8'))\n",
    "  plt.axis('off')\n",
    "  plt.title(classes[i])"
   ]
  },
  {
   "cell_type": "code",
   "execution_count": null,
   "metadata": {
    "collapsed": true
   },
   "outputs": [],
   "source": []
  }
 ],
 "metadata": {
  "kernelspec": {
   "display_name": "Python 2",
   "language": "python",
   "name": "python2"
  },
  "language_info": {
   "codemirror_mode": {
    "name": "ipython",
    "version": 2
   },
   "file_extension": ".py",
   "mimetype": "text/x-python",
   "name": "python",
   "nbconvert_exporter": "python",
   "pygments_lexer": "ipython2",
   "version": "2.7.11"
  }
 },
 "nbformat": 4,
 "nbformat_minor": 0
}
